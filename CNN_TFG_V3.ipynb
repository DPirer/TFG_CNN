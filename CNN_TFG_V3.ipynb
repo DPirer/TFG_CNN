{
 "cells": [
  {
   "cell_type": "markdown",
   "metadata": {},
   "source": [
    "# Convolutional Neural Network and Adversarial Attacks\n",
    "\n",
    "En el siguiente código se crea una red neuronal convolucional que identifica dígitos escritos a mano para posteriormente engañarla usando un white box adversarial attack conocido como FGSM"
   ]
  },
  {
   "cell_type": "markdown",
   "metadata": {},
   "source": [
    "# Importaciones"
   ]
  },
  {
   "cell_type": "code",
   "execution_count": 60,
   "metadata": {},
   "outputs": [],
   "source": [
    "import tensorflow as tf\n",
    "\n",
    "from tensorflow.keras import datasets, layers, models\n",
    "import matplotlib.pyplot as plt\n",
    "import numpy as np\n",
    "from random import randrange"
   ]
  },
  {
   "cell_type": "markdown",
   "metadata": {},
   "source": [
    "# Dataset\n",
    "\n",
    "A continuación descargamos el dataset"
   ]
  },
  {
   "cell_type": "code",
   "execution_count": 2,
   "metadata": {},
   "outputs": [],
   "source": [
    "#  Cargamos el dataset y lo dividimos en entrenamiento y entreno\n",
    "(train_images, train_labels), (test_images, test_labels) = datasets.mnist.load_data()\n",
    "\n",
    "# Importante: normalizar los píxeles entre 0 y 1. También se puede usar el método normalize\n",
    "train_images, test_images = train_images / 255.0, test_images / 255.0"
   ]
  },
  {
   "cell_type": "markdown",
   "metadata": {},
   "source": [
    "## Comprobamos el formato\n",
    "\n",
    "Elegimos una imagen y mostramos su imagen y su etiqueta"
   ]
  },
  {
   "cell_type": "code",
   "execution_count": 3,
   "metadata": {},
   "outputs": [
    {
     "data": {
      "image/png": "[encoded data removed]",
      "text/plain": [
       "<Figure size 432x288 with 1 Axes>"
      ]
     },
     "metadata": {
      "needs_background": "light"
     },
     "output_type": "display_data"
    }
   ],
   "source": [
    "num_imagen = 7  \n",
    "\n",
    "plt.imshow(train_images[num_imagen] ,cmap=plt.cm.binary)\n",
    "plt.xlabel(train_labels[num_imagen])\n",
    "plt.show()"
   ]
  },
  {
   "cell_type": "markdown",
   "metadata": {},
   "source": [
    "## Reshape\n",
    "La red espera una entrada de la forma (60000, 28, 28, 1), de forma que tenemos que modificar la entrada a eso"
   ]
  },
  {
   "cell_type": "code",
   "execution_count": 4,
   "metadata": {},
   "outputs": [],
   "source": [
    "train_images = train_images.reshape(60000,28,28,1)\n",
    "test_images = test_images.reshape(10000,28,28,1)"
   ]
  },
  {
   "cell_type": "markdown",
   "metadata": {},
   "source": [
    "# Definición de la red"
   ]
  },
  {
   "cell_type": "code",
   "execution_count": 5,
   "metadata": {},
   "outputs": [
    {
     "name": "stdout",
     "output_type": "stream",
     "text": [
      "Model: \"sequential\"\n",
      "_________________________________________________________________\n",
      "Layer (type)                 Output Shape              Param #   \n",
      "=================================================================\n",
      "conv2d (Conv2D)              (None, 26, 26, 32)        320       \n",
      "_________________________________________________________________\n",
      "max_pooling2d (MaxPooling2D) (None, 13, 13, 32)        0         \n",
      "_________________________________________________________________\n",
      "conv2d_1 (Conv2D)            (None, 11, 11, 64)        18496     \n",
      "_________________________________________________________________\n",
      "max_pooling2d_1 (MaxPooling2 (None, 5, 5, 64)          0         \n",
      "_________________________________________________________________\n",
      "conv2d_2 (Conv2D)            (None, 3, 3, 64)          36928     \n",
      "_________________________________________________________________\n",
      "flatten (Flatten)            (None, 576)               0         \n",
      "_________________________________________________________________\n",
      "dense (Dense)                (None, 64)                36928     \n",
      "_________________________________________________________________\n",
      "dense_1 (Dense)              (None, 10)                650       \n",
      "=================================================================\n",
      "Total params: 93,322\n",
      "Trainable params: 93,322\n",
      "Non-trainable params: 0\n",
      "_________________________________________________________________\n"
     ]
    }
   ],
   "source": [
    "# Creamos un modelo secuencial, es decir, la información fluirá de izquierda a derecha\n",
    "model = models.Sequential()\n",
    "\n",
    "# Añadimos las capas convolucionaes\n",
    "model.add(layers.Conv2D(32, (3, 3), activation='relu', input_shape=(28, 28, 1)))\n",
    "model.add(layers.MaxPooling2D((2, 2)))\n",
    "model.add(layers.Conv2D(64, (3, 3), activation='relu'))\n",
    "model.add(layers.MaxPooling2D((2, 2)))\n",
    "model.add(layers.Conv2D(64, (3, 3), activation='relu'))\n",
    "\n",
    "# Y posteriormente, las pasamos a capas lineales\n",
    "model.add(layers.Flatten())\n",
    "model.add(layers.Dense(64, activation='relu')) # Que escojamos 64 neuronas no tiene nada que ver con lo anterior\n",
    "model.add(layers.Dense(10, activation='softmax'))\n",
    "\n",
    "# Echemos un vistazo a cómo nos queda la red\n",
    "model.summary()"
   ]
  },
  {
   "cell_type": "markdown",
   "metadata": {},
   "source": [
    "## Creación de la red"
   ]
  },
  {
   "cell_type": "code",
   "execution_count": 6,
   "metadata": {},
   "outputs": [],
   "source": [
    "model.compile(optimizer='adam', loss=tf.keras.losses.SparseCategoricalCrossentropy(), metrics=['accuracy'])"
   ]
  },
  {
   "cell_type": "markdown",
   "metadata": {},
   "source": [
    "## Entrenamiento de la red"
   ]
  },
  {
   "cell_type": "code",
   "execution_count": 7,
   "metadata": {},
   "outputs": [
    {
     "name": "stdout",
     "output_type": "stream",
     "text": [
      "Train on 60000 samples, validate on 10000 samples\n",
      "Epoch 1/3\n",
      "60000/60000 [==============================] - 8s 137us/sample - loss: 0.1448 - accuracy: 0.9560 - val_loss: 0.0613 - val_accuracy: 0.97940s - loss: 0.1538 \n",
      "Epoch 2/3\n",
      "60000/60000 [==============================] - 5s 76us/sample - loss: 0.0465 - accuracy: 0.9854 - val_loss: 0.0357 - val_accuracy: 0.9887\n",
      "Epoch 3/3\n",
      "60000/60000 [==============================] - 5s 75us/sample - loss: 0.0343 - accuracy: 0.9892 - val_loss: 0.0321 - val_accuracy: 0.9890\n"
     ]
    }
   ],
   "source": [
    "entrenamiento = model.fit(train_images, train_labels, epochs=3, validation_data=(test_images, test_labels))"
   ]
  },
  {
   "cell_type": "markdown",
   "metadata": {},
   "source": [
    "## Análisis de resultados\n",
    "\n",
    "Comprobamos ahora en función de los datos de pérdida y precisión si sería beneficial aumentar las épocas o no"
   ]
  },
  {
   "cell_type": "code",
   "execution_count": 49,
   "metadata": {},
   "outputs": [
    {
     "data": {
      "text/plain": [
       "[<matplotlib.lines.Line2D at 0x2aad4e3b108>]"
      ]
     },
     "execution_count": 49,
     "metadata": {},
     "output_type": "execute_result"
    },
    {
     "data": {
      "image/png": "[encoded data removed]",
      "text/plain": [
       "<Figure size 720x288 with 2 Axes>"
      ]
     },
     "metadata": {
      "needs_background": "light"
     },
     "output_type": "display_data"
    }
   ],
   "source": [
    "# Mostramos la pérdida y la precisión\n",
    "plt.figure(figsize=(10,4))\n",
    "\n",
    "plt.subplot(121)\n",
    "plt.title(\"Loss\")\n",
    "plt.xlabel(\"Época\")\n",
    "plt.plot(entrenamiento.history['loss'], label= \"Loss\")\n",
    "\n",
    "plt.subplot(122)\n",
    "plt.title(\"Precisión\")\n",
    "plt.xlabel(\"Época\")\n",
    "plt.plot(entrenamiento.history['accuracy'], label= \"Precisión\")"
   ]
  },
  {
   "cell_type": "markdown",
   "metadata": {},
   "source": [
    "En base a la gráfica se observa que el valor ideal de épocas es 3 (empezamos en 0)"
   ]
  },
  {
   "cell_type": "markdown",
   "metadata": {},
   "source": [
    "# Testeo de la red\n",
    "\n",
    "En este caso, el modelo comprueba en cada época la precisión con los datos de test, de forma que aumenta de forma más rápida la precisión. Es decir, la siguiente parte daría el mismo resultado que la última época de entrenamiento. Esto sólo tendrá sentido cuando metamos el adversarial dataset"
   ]
  },
  {
   "cell_type": "code",
   "execution_count": 9,
   "metadata": {},
   "outputs": [
    {
     "name": "stdout",
     "output_type": "stream",
     "text": [
      "10000/10000 [==============================] - 0s 46us/sample - loss: 0.0321 - accuracy: 0.9890\n"
     ]
    }
   ],
   "source": [
    "test_loss, test_acc = model.evaluate(test_images,  test_labels)"
   ]
  },
  {
   "cell_type": "markdown",
   "metadata": {},
   "source": [
    "# Predicción de resultados\n",
    "\n",
    "Comprobamos que las imágenes introducidas corresponden con los valores predichos\n"
   ]
  },
  {
   "cell_type": "code",
   "execution_count": 10,
   "metadata": {},
   "outputs": [
    {
     "data": {
      "image/png": "[encoded data removed]",
      "text/plain": [
       "<Figure size 432x288 with 1 Axes>"
      ]
     },
     "metadata": {
      "needs_background": "light"
     },
     "output_type": "display_data"
    },
    {
     "name": "stdout",
     "output_type": "stream",
     "text": [
      "La clase predicha es: 7 con una confianza del 99.99 %\n"
     ]
    }
   ],
   "source": [
    "num_imagen = 0\n",
    "\n",
    "plt.imshow(test_images[num_imagen], cmap=plt.cm.binary)\n",
    "plt.xlabel(test_labels[num_imagen])\n",
    "plt.show()\n",
    "\n",
    "print(\"La clase predicha es:\", np.argmax(model.predict([test_images])[num_imagen]), \"con una confianza del\", \n",
    "      round(np.max(model.predict([test_images])[num_imagen])*100, 2), \"%\")"
   ]
  },
  {
   "cell_type": "markdown",
   "metadata": {},
   "source": [
    "# Crear dataset FGSM\n",
    "### Crear las perturbaciones\n",
    "Primero calculamos las perturbaciones para el dataset escogido, de forma que podemos realizar el FGSM sobre el test para realizar pruebas o sobre el train para entrenar posteriormente a la red con él"
   ]
  },
  {
   "cell_type": "code",
   "execution_count": 16,
   "metadata": {},
   "outputs": [],
   "source": [
    "# Introducimos el dataset del que queremos imágenes adversariales, test o train\n",
    "dataset = \"test\"\n",
    "\n",
    "# Definimos un nombre para guardar las perturbaciones sobre dicho dataset\n",
    "filename = \"pert_\" + dataset + \".npy\"\n",
    "    \n",
    "# Primero comprobamos directamente si tenemos ya el dataset requerido, porque tarda bastante en compilar    \n",
    "try: \n",
    "    perturbaciones = np.load(filename, allow_pickle=True)\n",
    "except:\n",
    "    # Creamos la perturbacion\n",
    "    perturbaciones = FGSM(dataset)\n",
    "    np.save(filename, perturbaciones)"
   ]
  },
  {
   "cell_type": "markdown",
   "metadata": {},
   "source": [
    "### Creación de las adversarial images\n",
    "Una vez tenemos las perturbaciones del dataset escogido, lo recorremos para los valores de epsilon deseados obteniendo un vector de predicciones"
   ]
  },
  {
   "cell_type": "code",
   "execution_count": 47,
   "metadata": {},
   "outputs": [],
   "source": [
    "# Definimos los valores de epsilon para los que queremos crear el dataset. Ojo, si queremos el dataset de entrenamiento\n",
    "# mejor poner sólo un valor de epsilon, poque tarda mucho\n",
    "epsilon = np.array([0.01, 0.05, 0.1, 0.15, 0.2, 0.25, 0.3])\n",
    "\n",
    "# Creamos nueustro vector de predicciones si usamos el dataset de test\n",
    "if dataset == \"test\":\n",
    "    try: \n",
    "        filename = \"predicciones_\" + str(epsilon) + \".npy\"\n",
    "        predicciones = np.load(filename, allow_pickle = True)\n",
    "        \n",
    "    except: \n",
    "        # Creamos nuestro vector vacío con las predicciones\n",
    "        predicciones = np.empty([len(epsilon), 10000, 10])\n",
    "            \n",
    "        # Recorremos los datasets para cada uno de esos valores de epsilon    \n",
    "        for i in range(len(epsilon)):\n",
    "            # Creamos el adversarial dataset\n",
    "            adversarial_dataset = creacion_adversarial_dataset(epsilon[i], dataset, perturbaciones)   \n",
    "\n",
    "            # Calculamos las métricas\n",
    "            prediccion = model.predict([adversarial_dataset])\n",
    "            predicciones[i] = prediccion\n",
    "\n",
    "        # Guardamos los resultados porque tarda bastante en compilar\n",
    "        np.save(filename, predicciones)\n",
    "else:\n",
    "    try: \n",
    "        filename = \"train\" + str(epsilon[i]) + \".npy\"\n",
    "        adversarial_trainset = np.load(filename, allow_pickle = True)\n",
    "        \n",
    "    except:\n",
    "        # Creamos un vector vacío de las dimensiones adecuadas\n",
    "        adversarial_dataset = np.empty([len(epsilon), 60000, 28, 28, 1])\n",
    "        \n",
    "        # Recorremos los datasets para cada uno de esos valores de epsilon    \n",
    "        for i in range(len(epsilon)):\n",
    "            # Creamos el adversarial dataset\n",
    "            adversarial_trainset_epsilon = creacion_adversarial_dataset(epsilon[i], dataset, perturbaciones)   \n",
    "            \n",
    "            # Metemos el resultado en el vector gordo\n",
    "            adversarial_trainset[i] = adversarial_trainset_epsilon\n",
    "        \n",
    "        # Y guardamos el resultado\n",
    "        np.save(filename, adversarial_trainset)"
   ]
  },
  {
   "cell_type": "markdown",
   "metadata": {},
   "source": [
    "### Comprobación de que se han creado correctamente"
   ]
  },
  {
   "cell_type": "code",
   "execution_count": 70,
   "metadata": {},
   "outputs": [
    {
     "name": "stdout",
     "output_type": "stream",
     "text": [
      "La forma del vector predicciones es: (7, 10000, 10)\n",
      "La predicción es: 0 con una confianza del 97.00000286102295 %\n"
     ]
    },
    {
     "data": {
      "image/png": "[encoded data removed]",
      "text/plain": [
       "<Figure size 1080x288 with 3 Axes>"
      ]
     },
     "metadata": {
      "needs_background": "light"
     },
     "output_type": "display_data"
    }
   ],
   "source": [
    "if dataset == \"test\":\n",
    "    # Mostramos la forma\n",
    "    print(\"La forma del vector predicciones es:\", predicciones.shape)\n",
    "    \n",
    "    # Imprimimos una imagen aleatoria con un valor de epsilon aleatorio\n",
    "    num_imagen = randrange(10000)\n",
    "    valor = randrange(len(epsilon))\n",
    "    \n",
    "    imagen_original = test_images[num_imagen]\n",
    "    perturbacion = perturbaciones[num_imagen] * 0.5 + 0.5\n",
    "    imagen = imagen_original + epsilon[valor] * perturbacion\n",
    "    imagen = tf.clip_by_value(imagen, -1, 1)\n",
    "    \n",
    "    # Llamamos a la función de impresión\n",
    "    impresion_imagen_adversarial(imagen_original, perturbacion, imagen, epsilon[valor])\n",
    "    prediccion_adversarial(imagen)\n",
    "    \n",
    "    \n",
    "else:\n",
    "    # Mostramos la forma\n",
    "    print(\"La forma del vector trainset adversarial es:\", perturbaciones.shape)\n",
    "    \n",
    "    # Imprimimos una imagen aleatoria con un valor de epsilon aleatorio\n",
    "    num_imagen = randrange(60000)\n",
    "    valor = randrange(len(epsilon))\n",
    "    \n",
    "    imagen_original = train_images[num_imagen]\n",
    "    perturbacion = perturbaciones[num_imagen] * 0.5 + 0.5\n",
    "    imagen = imagen_original + epsilon[valor] * perturbacion\n",
    "    imagen = tf.clip_by_value(imagen, -1, 1)\n",
    "    \n",
    "    # Llamamos a la función de impresión\n",
    "    impresion_imagen_adversarial(imagen_original, perturbacion, imagen, epsilon[valor])\n",
    "    prediccion_adversarial(imagen)"
   ]
  },
  {
   "cell_type": "markdown",
   "metadata": {},
   "source": [
    "# Análisis de métricas"
   ]
  },
  {
   "cell_type": "code",
   "execution_count": 58,
   "metadata": {},
   "outputs": [
    {
     "name": "stdout",
     "output_type": "stream",
     "text": [
      "Para epsilon = 0.01: Aciertos = 9873, Fallos = 127 luego Precisión = 98.73 % con una confianza media del 98.93 %\n",
      "Para epsilon = 0.05: Aciertos = 9743, Fallos = 257 luego Precisión = 97.43 % con una confianza media del 98.07 %\n",
      "Para epsilon = 0.1: Aciertos = 9490, Fallos = 510 luego Precisión = 94.90 % con una confianza media del 96.42 %\n",
      "Para epsilon = 0.15: Aciertos = 9063, Fallos = 937 luego Precisión = 90.63 % con una confianza media del 94.00 %\n",
      "Para epsilon = 0.2: Aciertos = 8391, Fallos = 1609 luego Precisión = 83.91 % con una confianza media del 90.98 %\n",
      "Para epsilon = 0.25: Aciertos = 7624, Fallos = 2376 luego Precisión = 76.24 % con una confianza media del 87.18 %\n",
      "Para epsilon = 0.3: Aciertos = 6552, Fallos = 3448 luego Precisión = 65.52 % con una confianza media del 83.00 %\n"
     ]
    },
    {
     "data": {
      "text/plain": [
       "[<matplotlib.lines.Line2D at 0x2aafd914148>]"
      ]
     },
     "execution_count": 58,
     "metadata": {},
     "output_type": "execute_result"
    },
    {
     "data": {
      "image/png": "[encoded data removed]",
      "text/plain": [
       "<Figure size 1440x288 with 4 Axes>"
      ]
     },
     "metadata": {
      "needs_background": "light"
     },
     "output_type": "display_data"
    }
   ],
   "source": [
    "# Creamos los vectores globales\n",
    "aciertos_epsilon = np.empty(len(epsilon)) \n",
    "fallos_epsilon = np.empty(len(epsilon))\n",
    "precisiones = np.empty(len(epsilon))\n",
    "confianzas = np.empty(len(epsilon)) \n",
    "\n",
    "# Recorremos los epsilons\n",
    "for i in range(len(epsilon)):\n",
    "    aciertos = 0\n",
    "    confianza = 0\n",
    "    \n",
    "    # Recorremos las predicciones\n",
    "    for j in range(10000):\n",
    "        prediccion = np.argmax(predicciones[i][j])\n",
    "        confianza = confianza + np.max(predicciones[i][j])\n",
    "        if prediccion == test_labels[j]:\n",
    "            aciertos += 1\n",
    "     \n",
    "    # Calculamos las métricas para cada epsilon\n",
    "    fallos = 10000 - aciertos\n",
    "    precision = (aciertos / 10000) * 100\n",
    "    confianza = (confianza / 10000) * 100\n",
    "    print(\"Para epsilon = {}: Aciertos = {}, Fallos = {} luego Precisión = {:0.2f} % con una confianza media del {:0.2f} %\"\n",
    "          . format(epsilon[i], aciertos, fallos, precision, confianza))\n",
    "    \n",
    "    # Creamos un vector con todas las métricas para poder realizar gráficas\n",
    "    aciertos_epsilon[i] = aciertos\n",
    "    fallos_epsilon[i] = fallos\n",
    "    precisiones[i] = precision\n",
    "    confianzas[i] = confianza\n",
    "    \n",
    "# Creamos gráficas de los resultados\n",
    "plt.figure(figsize=(20,4))\n",
    "\n",
    "plt.subplot(141)\n",
    "plt.title(\"Aciertos\")\n",
    "plt.xlabel(\"Epsilon\")\n",
    "plt.ylabel(\"Nº aciertos\")\n",
    "plt.plot(epsilon, aciertos_epsilon)\n",
    "\n",
    "plt.subplot(142)\n",
    "plt.title(\"Fallos\")\n",
    "plt.xlabel(\"Epsilon\")\n",
    "plt.ylabel(\"Nº fallos\")\n",
    "plt.plot(epsilon, fallos_epsilon)\n",
    "\n",
    "plt.subplot(143)\n",
    "plt.title(\"Precisión\")\n",
    "plt.xlabel(\"Epsilon\")\n",
    "plt.ylabel(\"Porcentaje\")\n",
    "plt.plot(epsilon, precisiones)\n",
    "\n",
    "plt.subplot(144)\n",
    "plt.title(\"Confianza\")\n",
    "plt.xlabel(\"Epsilon\")\n",
    "plt.ylabel(\"Porcentaje\")\n",
    "plt.plot(epsilon, confianzas)"
   ]
  },
  {
   "cell_type": "markdown",
   "metadata": {},
   "source": [
    "# Funciones utilizadas"
   ]
  },
  {
   "cell_type": "markdown",
   "metadata": {},
   "source": [
    "###  Creación de la perturbación"
   ]
  },
  {
   "cell_type": "code",
   "execution_count": 12,
   "metadata": {},
   "outputs": [],
   "source": [
    "def FGSM(dataset):\n",
    "    \n",
    "    # Definimos el dataset a utilizar, si el train o el test\n",
    "    if dataset == \"test\":\n",
    "        dataset = test_images\n",
    "        labels = test_labels\n",
    "    else:\n",
    "        dataset = train_images\n",
    "        labels = train_labels\n",
    "    \n",
    "    # Creamos un vector vacío para almacenar las perturbaciones\n",
    "    perturbaciones = np.empty([len(dataset), 28, 28, 1])\n",
    "    \n",
    "    # Recorremos las imágenes del dataset elegido\n",
    "    for num_imagen in range(len(dataset)):\n",
    "        # Expandimos la dimensión\n",
    "        imagen = dataset[num_imagen]\n",
    "        imagen = np.expand_dims(imagen, axis = 0)\n",
    "        label = labels[num_imagen]\n",
    "\n",
    "        # Convertimos a tensor\n",
    "        imagen = tf.convert_to_tensor(imagen, dtype = tf.float32)\n",
    "\n",
    "        # Definimos la función de pérdida\n",
    "        funcion_loss = tf.keras.losses.SparseCategoricalCrossentropy()\n",
    "\n",
    "        # Creamos la perturbacion\n",
    "        def crear_perturbacion(imagen, label):\n",
    "            with tf.GradientTape() as tape:\n",
    "                tape.watch(imagen)\n",
    "                prediccion = model(imagen)\n",
    "                loss = funcion_loss(label, prediccion)\n",
    "\n",
    "            gradiente = tape.gradient(loss, imagen)\n",
    "            signo_grad = tf.sign(gradiente)\n",
    "            return signo_grad\n",
    "\n",
    "        # Llamamos a la función\n",
    "        perturbaciones[num_imagen] = crear_perturbacion(imagen, label)\n",
    "\n",
    "    return perturbaciones"
   ]
  },
  {
   "cell_type": "markdown",
   "metadata": {},
   "source": [
    "### Creación del dataset adversarial"
   ]
  },
  {
   "cell_type": "code",
   "execution_count": 13,
   "metadata": {},
   "outputs": [],
   "source": [
    "def creacion_adversarial_dataset(epsilon, dataset, perturbaciones):\n",
    "    \n",
    "     # Definimos el dataset a utilizar, si el train o el test\n",
    "    if dataset == \"test\":\n",
    "        dataset = test_images\n",
    "        labels = test_labels\n",
    "    else:\n",
    "        dataset = train_images\n",
    "        labels = train_labels\n",
    "    \n",
    "    # Creamos el adversarial dataset vacío\n",
    "    adversarial_dataset = np.empty([len(dataset), 28, 28, 1])\n",
    "    \n",
    "    # Recorremos el dataset original y le vamos sumando el vector de perturbaciones creado anteriormente\n",
    "    for num_imagen in range(len(dataset)):\n",
    "        adversarial_dataset[num_imagen] = dataset[num_imagen] + epsilon * (perturbaciones[num_imagen] * 0.5 + 0.5)\n",
    "        adversarial_dataset[num_imagen] = tf.clip_by_value(adversarial_dataset[num_imagen], -1, 1)\n",
    "    \n",
    "    return adversarial_dataset"
   ]
  },
  {
   "cell_type": "markdown",
   "metadata": {},
   "source": [
    "### Impresión del dataset adversarial para cada epsilon"
   ]
  },
  {
   "cell_type": "code",
   "execution_count": 65,
   "metadata": {},
   "outputs": [],
   "source": [
    "def impresion_imagen_adversarial(imagen_original, perturbacion, imagen, epsilon):\n",
    "        \n",
    "    # Imprimimos una imagen con su perturbación y su imagen adversarial resultante\n",
    "    plt.figure(figsize=(15,4))\n",
    "\n",
    "    plt.subplot(131)\n",
    "    plt.title(\"Imagen original\")\n",
    "    plt.imshow(imagen_original, cmap=plt.cm.binary)\n",
    "\n",
    "    plt.subplot(132)\n",
    "    plt.title(\"Perturbación\")\n",
    "    plt.imshow(perturbacion, cmap=plt.cm.binary)\n",
    "\n",
    "    plt.subplot(133)\n",
    "    plt.title(\"Imagen adversarial epsilon = {}\".format(epsilon))\n",
    "    plt.imshow(imagen, cmap=plt.cm.binary)"
   ]
  },
  {
   "cell_type": "markdown",
   "metadata": {},
   "source": [
    "### Predicción de una imagen adversarial"
   ]
  },
  {
   "cell_type": "code",
   "execution_count": 67,
   "metadata": {},
   "outputs": [],
   "source": [
    "def prediccion_adversarial(imagen):\n",
    "    # Primero expandimos una dimensión\n",
    "    imagen = np.expand_dims(imagen, axis = 0)\n",
    "    \n",
    "    # Y realizamos la predicción\n",
    "    print(\"La predicción es:\", np.argmax(model.predict(imagen)), \"con una confianza del\", \n",
    "          round(np.max(model.predict(imagen)),2)*100, \"%\")"
   ]
  }
 ],
 "metadata": {
  "kernelspec": {
   "display_name": "Python 3",
   "language": "python",
   "name": "python3"
  },
  "language_info": {
   "codemirror_mode": {
    "name": "ipython",
    "version": 3
   },
   "file_extension": ".py",
   "mimetype": "text/x-python",
   "name": "python",
   "nbconvert_exporter": "python",
   "pygments_lexer": "ipython3",
   "version": "3.7.9"
  }
 },
 "nbformat": 4,
 "nbformat_minor": 4
}
