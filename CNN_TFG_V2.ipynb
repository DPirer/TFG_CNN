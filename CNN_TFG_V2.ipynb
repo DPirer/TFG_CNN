{
 "cells": [
  {
   "cell_type": "markdown",
   "metadata": {},
   "source": [
    "# Convolutional Neural Network and Adversarial Attacks\n",
    "\n",
    "En el siguiente código se crea una red neuronal convolucional que identifica dígitos escritos a mano para posteriormente engañarla usando un white box adversarial attack conocido como FGSM"
   ]
  },
  {
   "cell_type": "markdown",
   "metadata": {},
   "source": [
    "# Importaciones"
   ]
  },
  {
   "cell_type": "code",
   "execution_count": 1,
   "metadata": {},
   "outputs": [],
   "source": [
    "import tensorflow as tf\n",
    "\n",
    "from tensorflow.keras import datasets, layers, models\n",
    "import matplotlib.pyplot as plt\n",
    "import numpy as np"
   ]
  },
  {
   "cell_type": "markdown",
   "metadata": {},
   "source": [
    "# Dataset\n",
    "\n",
    "A continuación descargamos el dataset"
   ]
  },
  {
   "cell_type": "code",
   "execution_count": 2,
   "metadata": {},
   "outputs": [],
   "source": [
    "#  Cargamos el dataset y lo dividimos en entrenamiento y entreno\n",
    "(train_images, train_labels), (test_images, test_labels) = datasets.mnist.load_data()\n",
    "\n",
    "# Importante: normalizar los píxeles entre 0 y 1. También se puede usar el método normalize\n",
    "train_images, test_images = train_images / 255.0, test_images / 255.0"
   ]
  },
  {
   "cell_type": "markdown",
   "metadata": {},
   "source": [
    "## Comprobamos el formato\n",
    "\n",
    "Elegimos una imagen y la mostramos junto con su etiqueta"
   ]
  },
  {
   "cell_type": "code",
   "execution_count": 3,
   "metadata": {},
   "outputs": [
    {
     "data": {
      "image/png": "[encoded data removed]",
      "text/plain": [
       "<Figure size 432x288 with 1 Axes>"
      ]
     },
     "metadata": {
      "needs_background": "light"
     },
     "output_type": "display_data"
    }
   ],
   "source": [
    "num_imagen = 7  \n",
    "\n",
    "plt.imshow(train_images[num_imagen] ,cmap=plt.cm.binary)\n",
    "plt.xlabel(train_labels[num_imagen])\n",
    "plt.show()"
   ]
  },
  {
   "cell_type": "markdown",
   "metadata": {},
   "source": [
    "## Reshape\n",
    "La red espera una entrada de 4 dimensiones: (número imágenes, ancho, alto, canales) de forma que nuestra entrada debe ser (60000, 28, 28, 1). Las imágenes tienen la forma (60000, 28, 28) de forma que el reshape es para especificar el canal."
   ]
  },
  {
   "cell_type": "code",
   "execution_count": 4,
   "metadata": {},
   "outputs": [],
   "source": [
    "train_images = train_images.reshape(60000,28,28,1)\n",
    "test_images = test_images.reshape(10000,28,28,1)"
   ]
  },
  {
   "cell_type": "markdown",
   "metadata": {},
   "source": [
    "# Definición de la red"
   ]
  },
  {
   "cell_type": "code",
   "execution_count": 5,
   "metadata": {},
   "outputs": [
    {
     "name": "stdout",
     "output_type": "stream",
     "text": [
      "Model: \"sequential\"\n",
      "_________________________________________________________________\n",
      "Layer (type)                 Output Shape              Param #   \n",
      "=================================================================\n",
      "conv2d (Conv2D)              (None, 26, 26, 32)        320       \n",
      "_________________________________________________________________\n",
      "max_pooling2d (MaxPooling2D) (None, 13, 13, 32)        0         \n",
      "_________________________________________________________________\n",
      "conv2d_1 (Conv2D)            (None, 11, 11, 64)        18496     \n",
      "_________________________________________________________________\n",
      "max_pooling2d_1 (MaxPooling2 (None, 5, 5, 64)          0         \n",
      "_________________________________________________________________\n",
      "conv2d_2 (Conv2D)            (None, 3, 3, 64)          36928     \n",
      "_________________________________________________________________\n",
      "flatten (Flatten)            (None, 576)               0         \n",
      "_________________________________________________________________\n",
      "dense (Dense)                (None, 64)                36928     \n",
      "_________________________________________________________________\n",
      "dense_1 (Dense)              (None, 10)                650       \n",
      "=================================================================\n",
      "Total params: 93,322\n",
      "Trainable params: 93,322\n",
      "Non-trainable params: 0\n",
      "_________________________________________________________________\n"
     ]
    }
   ],
   "source": [
    "# Creamos un modelo secuencial, es decir, la información fluirá de izquierda a derecha\n",
    "model = models.Sequential()\n",
    "\n",
    "# Añadimos las capas convolucionaes\n",
    "model.add(layers.Conv2D(32, (3, 3), activation='relu', input_shape=(28, 28, 1)))\n",
    "model.add(layers.MaxPooling2D((2, 2)))\n",
    "model.add(layers.Conv2D(64, (3, 3), activation='relu'))\n",
    "model.add(layers.MaxPooling2D((2, 2)))\n",
    "model.add(layers.Conv2D(64, (3, 3), activation='relu'))\n",
    "\n",
    "# Y posteriormente, las pasamos a capas lineales\n",
    "model.add(layers.Flatten())\n",
    "model.add(layers.Dense(64, activation='relu')) # Que escojamos 64 neuronas no tiene nada que ver con lo anterior\n",
    "model.add(layers.Dense(10, activation='softmax'))\n",
    "\n",
    "# Echemos un vistazo a cómo nos queda la red\n",
    "model.summary()"
   ]
  },
  {
   "cell_type": "markdown",
   "metadata": {},
   "source": [
    "## Creación de la red"
   ]
  },
  {
   "cell_type": "code",
   "execution_count": 6,
   "metadata": {},
   "outputs": [],
   "source": [
    "model.compile(optimizer='adam', loss=tf.keras.losses.SparseCategoricalCrossentropy(), metrics=['accuracy'])"
   ]
  },
  {
   "cell_type": "markdown",
   "metadata": {},
   "source": [
    "## Entrenamiento de la red"
   ]
  },
  {
   "cell_type": "code",
   "execution_count": 7,
   "metadata": {},
   "outputs": [
    {
     "name": "stdout",
     "output_type": "stream",
     "text": [
      "Train on 60000 samples, validate on 10000 samples\n",
      "Epoch 1/3\n",
      "60000/60000 [==============================] - 6s 98us/sample - loss: 0.1442 - accuracy: 0.9559 - val_loss: 0.0512 - val_accuracy: 0.9853\n",
      "Epoch 2/3\n",
      "60000/60000 [==============================] - 4s 70us/sample - loss: 0.0446 - accuracy: 0.9864 - val_loss: 0.0382 - val_accuracy: 0.9879\n",
      "Epoch 3/3\n",
      "60000/60000 [==============================] - 4s 70us/sample - loss: 0.0333 - accuracy: 0.9892 - val_loss: 0.0271 - val_accuracy: 0.9911\n"
     ]
    }
   ],
   "source": [
    "entrenamiento = model.fit(train_images, train_labels, epochs=3, validation_data=(test_images, test_labels))"
   ]
  },
  {
   "cell_type": "markdown",
   "metadata": {},
   "source": [
    "## Análisis de resultados\n",
    "\n",
    "Comprobamos ahora en función de los datos de pérdida y precisión si sería beneficial aumentar las épocas o no"
   ]
  },
  {
   "cell_type": "code",
   "execution_count": 8,
   "metadata": {},
   "outputs": [
    {
     "data": {
      "text/plain": [
       "[<matplotlib.lines.Line2D at 0x18d8f461948>]"
      ]
     },
     "execution_count": 8,
     "metadata": {},
     "output_type": "execute_result"
    },
    {
     "data": {
      "image/png": "[encoded data removed]",
      "text/plain": [
       "<Figure size 720x288 with 2 Axes>"
      ]
     },
     "metadata": {
      "needs_background": "light"
     },
     "output_type": "display_data"
    }
   ],
   "source": [
    "# Mostramos la pérdida y la precisión\n",
    "plt.figure(figsize=(10,4))\n",
    "plt.title(\"Pérdida y precisión\")\n",
    "\n",
    "plt.subplot(121)\n",
    "plt.xlabel(\"Época\")\n",
    "plt.plot(entrenamiento.history['loss'], label= \"Loss\")\n",
    "\n",
    "plt.subplot(122)\n",
    "plt.xlabel(\"Época\")\n",
    "plt.plot(entrenamiento.history['accuracy'], label= \"Precisión\")"
   ]
  },
  {
   "cell_type": "markdown",
   "metadata": {},
   "source": [
    "En base a la gráfica se observa que el valor ideal de épocas es 3 (empezamos en 0), pero que con 1 es más que suficiente"
   ]
  },
  {
   "cell_type": "markdown",
   "metadata": {},
   "source": [
    "# Testeo de la red\n",
    "\n",
    "En este caso, el modelo comprueba en cada época la precisión con los datos de test, de forma que aumenta de forma más rápida la precisión. Es decir, la siguiente parte daría el mismo resultado que la última época de entrenamiento. Esto sólo tendría sentido si metiéramos un adversarial dataset"
   ]
  },
  {
   "cell_type": "code",
   "execution_count": 9,
   "metadata": {},
   "outputs": [
    {
     "name": "stdout",
     "output_type": "stream",
     "text": [
      "10000/10000 [==============================] - 0s 44us/sample - loss: 0.0271 - accuracy: 0.9911\n"
     ]
    }
   ],
   "source": [
    "test_loss, test_acc = model.evaluate(test_images,  test_labels)"
   ]
  },
  {
   "cell_type": "markdown",
   "metadata": {},
   "source": [
    "# Predicción de resultados\n",
    "\n",
    "Comprobamos que las imágenes introducidas corresponden con los valores predichos\n"
   ]
  },
  {
   "cell_type": "code",
   "execution_count": 10,
   "metadata": {},
   "outputs": [
    {
     "data": {
      "image/png": "[encoded data removed]",
      "text/plain": [
       "<Figure size 432x288 with 1 Axes>"
      ]
     },
     "metadata": {
      "needs_background": "light"
     },
     "output_type": "display_data"
    },
    {
     "name": "stdout",
     "output_type": "stream",
     "text": [
      "La clase predicha es: 5 con una confianza del 99.99 %\n"
     ]
    }
   ],
   "source": [
    "num_imagen = 45\n",
    "\n",
    "plt.imshow(test_images[num_imagen], cmap=plt.cm.binary)\n",
    "plt.xlabel(test_labels[num_imagen])\n",
    "plt.show()\n",
    "\n",
    "# Para hacer la predicción es siempre mejor realizarla sobre el dataset entero y posteriormente realizar una\n",
    "print(\"La clase predicha es:\", np.argmax(model.predict([test_images])[num_imagen]), \"con una confianza del\", \n",
    "      round(np.max(model.predict([test_images])[num_imagen])*100, 2), \"%\")"
   ]
  },
  {
   "cell_type": "markdown",
   "metadata": {},
   "source": [
    "# Crear adversarial images\n",
    "\n",
    "## Preparar imagen\n",
    "Recordemos que la red espera 4 dimensiones y, además, el gradiente trabaja con tensores"
   ]
  },
  {
   "cell_type": "code",
   "execution_count": 11,
   "metadata": {},
   "outputs": [],
   "source": [
    "# Expandimos la dimensión\n",
    "imagen = test_images[num_imagen]\n",
    "imagen = np.expand_dims(imagen, axis = 0)\n",
    "label = test_labels[num_imagen]\n",
    "\n",
    "# Convertimos a tensor\n",
    "imagen = tf.convert_to_tensor(imagen, dtype = tf.float32)"
   ]
  },
  {
   "cell_type": "markdown",
   "metadata": {},
   "source": [
    "## Creación de la perturbación\n",
    "Calculamos el gradiente con la predicción y la imagen para obtener su signo"
   ]
  },
  {
   "cell_type": "code",
   "execution_count": 12,
   "metadata": {},
   "outputs": [],
   "source": [
    "# Definimos la función de pérdida que hemos usado en el modelo\n",
    "funcion_loss = tf.keras.losses.SparseCategoricalCrossentropy()\n",
    "\n",
    "# Creamos la función para la definición de la perturbación usando FGSM. El gradiente es la derivada de la pérdida con respecto \n",
    "# a la imagen. Para poder llegar a eso necesitamos el entorno GradientTape. En él básicamente le decimos que la imagen es la x \n",
    "# y le definimos qué es la y. Con los dos parámetros definidos, podemos calcular el gradiente después y con él, el signo\n",
    "def crear_patron_adversario(imagen, label):\n",
    "    with tf.GradientTape() as gt:                \n",
    "        gt.watch(imagen)                        \n",
    "        prediccion = model(imagen)\n",
    "        loss = funcion_loss(label, prediccion)\n",
    "        \n",
    "    gradiente = gt.gradient(loss, imagen)\n",
    "    signo_grad = tf.sign(gradiente)\n",
    "    return signo_grad\n",
    "\n",
    "# Llamamos a la función\n",
    "perturbacion = crear_patron_adversario(imagen, label)"
   ]
  },
  {
   "cell_type": "markdown",
   "metadata": {},
   "source": [
    "## Visualización de la perturbación"
   ]
  },
  {
   "cell_type": "code",
   "execution_count": 13,
   "metadata": {},
   "outputs": [
    {
     "name": "stdout",
     "output_type": "stream",
     "text": [
      "(1, 28, 28, 1)\n"
     ]
    },
    {
     "data": {
      "image/png": "[encoded data removed]",
      "text/plain": [
       "<Figure size 432x288 with 1 Axes>"
      ]
     },
     "metadata": {
      "needs_background": "light"
     },
     "output_type": "display_data"
    }
   ],
   "source": [
    "print(perturbacion.shape)\n",
    "\n",
    "plt.imshow(perturbacion[0]*0.5+0.5) # Los 0.5 hacen que la imagen pase de [-1, 1] a [0, 1]\n",
    "plt.show()"
   ]
  },
  {
   "cell_type": "markdown",
   "metadata": {},
   "source": [
    "## Creación de la imagen adversarial\n",
    "Una vez tenemos la perturbación creada, podemos crear la imagen adversarial a partir de ésta y la imagen original"
   ]
  },
  {
   "cell_type": "code",
   "execution_count": 14,
   "metadata": {},
   "outputs": [
    {
     "data": {
      "image/png": "[encoded data removed]",
      "text/plain": [
       "<Figure size 432x288 with 1 Axes>"
      ]
     },
     "metadata": {
      "needs_background": "light"
     },
     "output_type": "display_data"
    }
   ],
   "source": [
    "# Creamos la imagen\n",
    "epsilon = 0.15\n",
    "imagen_adversarial = test_images[num_imagen] + epsilon*perturbacion[0]*0.5+0.5\n",
    "imagen_adversarial = tf.clip_by_value(imagen_adversarial, -1, 1)\n",
    "\n",
    "# Mostramos la imgen\n",
    "plt.imshow(imagen_adversarial, cmap=plt.cm.binary)\n",
    "plt.show()"
   ]
  },
  {
   "cell_type": "markdown",
   "metadata": {},
   "source": [
    "# Predicción con la imagen adversarial"
   ]
  },
  {
   "cell_type": "code",
   "execution_count": 15,
   "metadata": {},
   "outputs": [],
   "source": [
    "# Primero expandimos una dimensión. Recordemos la forma que espera la red\n",
    "imagen_adversarial = np.expand_dims(imagen_adversarial, axis = 0)"
   ]
  },
  {
   "cell_type": "code",
   "execution_count": 16,
   "metadata": {},
   "outputs": [
    {
     "name": "stdout",
     "output_type": "stream",
     "text": [
      "La predicción es: 8 con una confianza del 80.0000011920929 %\n"
     ]
    }
   ],
   "source": [
    "# Y realizamos la predicción\n",
    "print(\"La predicción es:\", np.argmax(model.predict(imagen_adversarial)), \"con una confianza del\", \n",
    "      round(np.max(model.predict(imagen_adversarial)),2)*100, \"%\")"
   ]
  }
 ],
 "metadata": {
  "kernelspec": {
   "display_name": "Python 3",
   "language": "python",
   "name": "python3"
  },
  "language_info": {
   "codemirror_mode": {
    "name": "ipython",
    "version": 3
   },
   "file_extension": ".py",
   "mimetype": "text/x-python",
   "name": "python",
   "nbconvert_exporter": "python",
   "pygments_lexer": "ipython3",
   "version": "3.7.9"
  }
 },
 "nbformat": 4,
 "nbformat_minor": 4
}
